{
 "cells": [
  {
   "cell_type": "markdown",
   "metadata": {},
   "source": [
    "# Climate Analysis and Exploration"
   ]
  },
  {
   "cell_type": "code",
   "execution_count": 1,
   "metadata": {
    "collapsed": true
   },
   "outputs": [],
   "source": [
    "#import dependencies\n",
    "import matplotlib\n",
    "matplotlib.use('nbagg')\n",
    "from matplotlib import style\n",
    "style.use('fivethirtyeight')\n",
    "import matplotlib.pyplot as plt\n",
    "%matplotlib inline\n",
    "import pandas as pd\n",
    "import sqlalchemy\n",
    "from sqlalchemy.ext.automap import automap_base\n",
    "from sqlalchemy.orm import Session\n",
    "from sqlalchemy import create_engine, inspect, func,distinct\n",
    "import datetime as dt\n",
    "import numpy as np"
   ]
  },
  {
   "cell_type": "code",
   "execution_count": 2,
   "metadata": {},
   "outputs": [
    {
     "data": {
      "text/plain": [
       "['measurement', 'station']"
      ]
     },
     "execution_count": 2,
     "metadata": {},
     "output_type": "execute_result"
    }
   ],
   "source": [
    "#connect to hawaii.sqlite \n",
    "engine = create_engine(\"sqlite:///output/hawaii.sqlite\", echo=False)\n",
    "\n",
    "#use automap base\n",
    "# Reflect Database into ORM classes \n",
    "Base = automap_base()\n",
    "Base.prepare(engine, reflect=True)\n",
    "#check if classes are relected\n",
    "Base.classes.keys()"
   ]
  },
  {
   "cell_type": "code",
   "execution_count": 3,
   "metadata": {
    "collapsed": true
   },
   "outputs": [],
   "source": [
    "#Map measurement to an object termed ME\n",
    "ME=Base.classes.measurement\n",
    "#Map station to an object termed ST\n",
    "ST=Base.classes.station"
   ]
  },
  {
   "cell_type": "code",
   "execution_count": 4,
   "metadata": {
    "collapsed": true
   },
   "outputs": [],
   "source": [
    "#create a session\n",
    "session=Session(engine)"
   ]
  },
  {
   "cell_type": "code",
   "execution_count": 6,
   "metadata": {
    "collapsed": true
   },
   "outputs": [],
   "source": [
    "columns = inspect(engine).get_columns('measurement')"
   ]
  },
  {
   "cell_type": "code",
   "execution_count": 8,
   "metadata": {},
   "outputs": [
    {
     "name": "stdout",
     "output_type": "stream",
     "text": [
      "id INTEGER\n",
      "station TEXT\n",
      "date TEXT\n",
      "prcp FLOAT\n",
      "tobs FLOAT\n"
     ]
    }
   ],
   "source": [
    "for c in columns:\n",
    "    print(c['name'],c['type'])"
   ]
  },
  {
   "cell_type": "code",
   "execution_count": 11,
   "metadata": {},
   "outputs": [
    {
     "name": "stdout",
     "output_type": "stream",
     "text": [
      "id INTEGER\n",
      "name TEXT\n",
      "station TEXT\n",
      "latitude FLOAT\n",
      "longitude FLOAT\n",
      "elevation FLOAT\n"
     ]
    }
   ],
   "source": [
    "columns_st=inspect(engine).get_columns('station')\n",
    "for c in columns_st:\n",
    "    print(c['name'],c['type'])"
   ]
  },
  {
   "cell_type": "markdown",
   "metadata": {},
   "source": [
    "# Precipitation Analysis"
   ]
  },
  {
   "cell_type": "markdown",
   "metadata": {},
   "source": [
    "Instruction as below:\n",
    "\n",
    "1.Design a query to retrieve the last 12 months of precipitation data.\n",
    "I assumed the last 12 months are the last 12 months from today, e.g. (today 2018-4-2, retrieved data from 2017-4-2 til now)\n",
    "\n",
    "2.Select only the date and prcp values.\n",
    "\n",
    "3.Load the query results into a Pandas DataFrame and set the index to the date column.\n",
    "\n",
    "4.Plot the results using the DataFrame plot method.\n",
    "I assumed that we are supposed to plot the precipitations of each day retrieved onto a bar plot."
   ]
  },
  {
   "cell_type": "code",
   "execution_count": 5,
   "metadata": {},
   "outputs": [
    {
     "data": {
      "text/html": [
       "<div>\n",
       "<style scoped>\n",
       "    .dataframe tbody tr th:only-of-type {\n",
       "        vertical-align: middle;\n",
       "    }\n",
       "\n",
       "    .dataframe tbody tr th {\n",
       "        vertical-align: top;\n",
       "    }\n",
       "\n",
       "    .dataframe thead th {\n",
       "        text-align: right;\n",
       "    }\n",
       "</style>\n",
       "<table border=\"1\" class=\"dataframe\">\n",
       "  <thead>\n",
       "    <tr style=\"text-align: right;\">\n",
       "      <th></th>\n",
       "      <th>Precipitation</th>\n",
       "    </tr>\n",
       "  </thead>\n",
       "  <tbody>\n",
       "    <tr>\n",
       "      <th>count</th>\n",
       "      <td>748.000000</td>\n",
       "    </tr>\n",
       "    <tr>\n",
       "      <th>mean</th>\n",
       "      <td>0.171832</td>\n",
       "    </tr>\n",
       "    <tr>\n",
       "      <th>std</th>\n",
       "      <td>0.434393</td>\n",
       "    </tr>\n",
       "    <tr>\n",
       "      <th>min</th>\n",
       "      <td>0.000000</td>\n",
       "    </tr>\n",
       "    <tr>\n",
       "      <th>25%</th>\n",
       "      <td>0.000000</td>\n",
       "    </tr>\n",
       "    <tr>\n",
       "      <th>50%</th>\n",
       "      <td>0.020000</td>\n",
       "    </tr>\n",
       "    <tr>\n",
       "      <th>75%</th>\n",
       "      <td>0.140000</td>\n",
       "    </tr>\n",
       "    <tr>\n",
       "      <th>max</th>\n",
       "      <td>6.250000</td>\n",
       "    </tr>\n",
       "  </tbody>\n",
       "</table>\n",
       "</div>"
      ],
      "text/plain": [
       "       Precipitation\n",
       "count     748.000000\n",
       "mean        0.171832\n",
       "std         0.434393\n",
       "min         0.000000\n",
       "25%         0.000000\n",
       "50%         0.020000\n",
       "75%         0.140000\n",
       "max         6.250000"
      ]
     },
     "execution_count": 5,
     "metadata": {},
     "output_type": "execute_result"
    },
    {
     "data": {
      "image/png": "[encoded data removed]",
      "text/plain": [
       "<matplotlib.figure.Figure at 0x10911d588>"
      ]
     },
     "metadata": {},
     "output_type": "display_data"
    }
   ],
   "source": [
    "#set up today and a year ago's date\n",
    "today=dt.date.today()\n",
    "year_ago=today.replace(year=today.year-1)\n",
    "\n",
    "#get the precipitation of each day between last year today and today and order by date\n",
    "prcp_last_year=session.query(ME.date,ME.prcp).\\\n",
    "                filter((ME.date>year_ago)&(ME.date<today)).\\\n",
    "                order_by(ME.date).all()\n",
    "        \n",
    "#get the query results into df\n",
    "df_prcp=pd.DataFrame(prcp_last_year,columns=['Date','Precipitation']).set_index('Date')\n",
    "\n",
    "#plot a bar graph and save as png\n",
    "df_prcp.plot(figsize=(10,5))\n",
    "plt.tight_layout()\n",
    "plt.ylabel('Precipitation')\n",
    "plt.savefig('output/precipitation.png',bbox_inches = 'tight')\n",
    "\n",
    "#describe a summary of analysis\n",
    "df_prcp.describe()"
   ]
  },
  {
   "cell_type": "markdown",
   "metadata": {},
   "source": [
    "# Station Analysis"
   ]
  },
  {
   "cell_type": "markdown",
   "metadata": {},
   "source": [
    "I plot this part in 2 ways:\n",
    "1. assuming the last 12 months is the last 12 months from now\n",
    "2.assuming the last 12 monts is the last 12 months recorded\n",
    "\n",
    "Apparently plot under the 2nd assumptions looks more like the example graph"
   ]
  },
  {
   "cell_type": "code",
   "execution_count": 6,
   "metadata": {},
   "outputs": [
    {
     "name": "stdout",
     "output_type": "stream",
     "text": [
      "9\n"
     ]
    }
   ],
   "source": [
    "#find the number of stations\n",
    "num_stations=session.query(func.count(distinct(ME.station))).one()\n",
    "print(num_stations[0])"
   ]
  },
  {
   "cell_type": "code",
   "execution_count": 9,
   "metadata": {},
   "outputs": [
    {
     "data": {
      "text/plain": [
       "[('USC00519281', 2772)]"
      ]
     },
     "execution_count": 9,
     "metadata": {},
     "output_type": "execute_result"
    }
   ],
   "source": [
    "#Design a query to find the most active station\n",
    "most_active_station=session.query(ME.station,func.count(ME.prcp)).\\\n",
    "                    group_by(ME.station).order_by(func.count(ME.prcp).desc()).limit(1).all()\n",
    "most_active_station"
   ]
  },
  {
   "cell_type": "markdown",
   "metadata": {},
   "source": [
    "First graph is based on the last 12 month from today"
   ]
  },
  {
   "cell_type": "code",
   "execution_count": 13,
   "metadata": {},
   "outputs": [
    {
     "data": {
      "image/png": "[encoded data removed]",
      "text/plain": [
       "<matplotlib.figure.Figure at 0x111c601d0>"
      ]
     },
     "metadata": {},
     "output_type": "display_data"
    }
   ],
   "source": [
    "#Design a query to retrieve the last 12 monts of temperature observation data(tobs)\n",
    "#query for all the tobs data in the past 12 months observed by the most active station\n",
    "tobs_active_station_last_year=session.query(ME.tobs).filter((ME.date>year_ago)&(ME.date<=today)).\\\n",
    "                filter(ME.station==most_active_station[0][0]).all()\n",
    "#make tobs into a df and plot\n",
    "tobs_df=pd.DataFrame(tobs_active_station_last_year,columns=['tobs'])\n",
    "tobs_df.plot.hist(bins=12)\n",
    "plt.tight_layout()\n",
    "plt.savefig('output/tobs_hist.png')"
   ]
  },
  {
   "cell_type": "markdown",
   "metadata": {},
   "source": [
    "Second graph is based on the last recorded 12 months"
   ]
  },
  {
   "cell_type": "code",
   "execution_count": 14,
   "metadata": {},
   "outputs": [
    {
     "data": {
      "image/png": "[encoded data removed]",
      "text/plain": [
       "<matplotlib.figure.Figure at 0x111b06be0>"
      ]
     },
     "metadata": {},
     "output_type": "display_data"
    }
   ],
   "source": [
    "#Design a query to retrieve the last 12 monts (here last 12 months from the record) \n",
    "#of temperature observation data(tobs)\n",
    "\n",
    "#query for the last date recorded\n",
    "last_date_query=session.query(ME.date).order_by(ME.date.desc()).limit(1).all()[0][0]\n",
    "\n",
    "#change it into a date object \n",
    "last_date_recorded=dt.datetime.strptime(last_date_query, '%Y-%m-%d').date() \n",
    "\n",
    "#get last year recorded\n",
    "recorded_last_year=last_date_recorded.replace(year=last_date_recorded.year-1)\n",
    "\n",
    "#query for all the tobs data in the past 12 months observed by the most active station\n",
    "tobs_active_station_last_year_recorded=session.query(ME.tobs).\\\n",
    "                                        filter((ME.date>recorded_last_year)&(ME.date<=last_date_recorded)).\\\n",
    "                                        filter(ME.station==most_active_station[0][0]).all()\n",
    "#make tobs into a df and plot\n",
    "tobs_df_recorded=pd.DataFrame(tobs_active_station_last_year_recorded,columns=['tobs'])\n",
    "tobs_df_recorded.plot.hist(bins=12)\n",
    "plt.tight_layout()\n",
    "plt.savefig('output/tobs_hist_last_year_recorded.png')"
   ]
  },
  {
   "cell_type": "markdown",
   "metadata": {},
   "source": [
    "# Temperature Analysis"
   ]
  },
  {
   "cell_type": "code",
   "execution_count": 183,
   "metadata": {
    "collapsed": true
   },
   "outputs": [],
   "source": [
    "#define a function to take a start and end date in the format of %Y-%m-%d and find the matching \n",
    "#results from the previous year and query for tobs \n",
    "\n",
    "def calc_temps(start,end):\n",
    "    #convert text input into datetime object\n",
    "    start_date=dt.datetime.strptime(start, '%Y-%m-%d').date()\n",
    "    end_date=dt.datetime.strptime(end, '%Y-%m-%d').date()\n",
    "    #find the date of previouse year\n",
    "    start_search=start_date.replace(year=start_date.year-1)\n",
    "    end_search=end_date.replace(year=end_date.year-1)\n",
    "    #make queries\n",
    "    ave_tobs=session.query(func.avg(ME.tobs)).filter((ME.date>=start_search)&(ME.date<=end_search)).all()[0][0]\n",
    "    print(f'debug average tobs between {start_search} and {end_search} is {ave_tobs}')\n",
    "    min_tobs=session.query(func.min(ME.tobs)).filter((ME.date>=start_search)&(ME.date<=end_search)).all()[0][0]\n",
    "    print(f'debug min of tobs is between {start_search} and {end_search} is {min_tobs}')\n",
    "    max_tobs=session.query(func.max(ME.tobs)).filter((ME.date>=start_search)&(ME.date<=end_search)).all()[0][0]\n",
    "    print(f'debug min of tobs is between {start_search} and {end_search} is {max_tobs}')\n",
    "    return ave_tobs,min_tobs,max_tobs\n",
    "\n",
    "    "
   ]
  },
  {
   "cell_type": "code",
   "execution_count": 239,
   "metadata": {},
   "outputs": [
    {
     "name": "stdout",
     "output_type": "stream",
     "text": [
      "debug average tobs between 2017-04-11 and 2017-05-11 is 73.74137931034483\n",
      "debug min of tobs is between 2017-04-11 and 2017-05-11 is 58.0\n",
      "debug min of tobs is between 2017-04-11 and 2017-05-11 is 83.0\n"
     ]
    },
    {
     "data": {
      "image/png": "[encoded data removed]",
      "text/plain": [
       "<matplotlib.figure.Figure at 0x119d08358>"
      ]
     },
     "metadata": {},
     "output_type": "display_data"
    }
   ],
   "source": [
    "#I am gonna take a hypothetical one month vacation starting from my birthday this year\n",
    "ave_tobs,min_tobs,max_tobs=calc_temps('2018-04-11','2018-05-11')\n",
    "\n",
    "#make a df for plotting using ave_tobs\n",
    "df_plot=pd.DataFrame([(ave_tobs)],columns=['Average Temp'])\n",
    "\n",
    "#now plot\n",
    "df_plot.plot.bar(yerr=(max_tobs-min_tobs),width=0.2,color='b',alpha=0.5)\n",
    "plt.tick_params(\n",
    "    axis='x',          # changes apply to the x-axis\n",
    "    which='both',      # both major and minor ticks are affected\n",
    "    bottom='off',      # ticks along the bottom edge are off\n",
    "    top='off',         # ticks along the top edge are off\n",
    "    labelbottom='off')\n",
    "\n",
    "# plt.tight_layout()\n",
    "plt.ylabel('Temp (F)')\n",
    "plt.title('Trip Average Temp')\n",
    "plt.savefig('output/trip_ave_temp.png',bbox_inches = 'tight')"
   ]
  },
  {
   "cell_type": "code",
   "execution_count": null,
   "metadata": {
    "collapsed": true
   },
   "outputs": [],
   "source": []
  }
 ],
 "metadata": {
  "kernelspec": {
   "display_name": "Python [conda env:PythonData]",
   "language": "python",
   "name": "conda-env-PythonData-py"
  },
  "language_info": {
   "codemirror_mode": {
    "name": "ipython",
    "version": 3
   },
   "file_extension": ".py",
   "mimetype": "text/x-python",
   "name": "python",
   "nbconvert_exporter": "python",
   "pygments_lexer": "ipython3",
   "version": "3.6.3"
  }
 },
 "nbformat": 4,
 "nbformat_minor": 2
}
